{
 "cells": [
  {
   "cell_type": "markdown",
   "metadata": {},
   "source": [
    "# Unlock tweet archive of Twitter user @dog_rates\n",
    "WeRateDogs (@dog_rates) is a very popular Twitter account. It has 7.84M followers. Each twitter has a image and its unique rating system. In this project, we have three kinds of datasets, Twitter archive data including the basic tweet information, image prediction that have done by a neural network and additional data from Twitter API. Based on these data, I am interested in the most popular dog stage, the most popular breed, and confident rate in dog breed. "
   ]
  },
  {
   "cell_type": "markdown",
   "metadata": {},
   "source": [
    "### Which dog stage is the most popular?  \n",
    "The existing rating system is using a funny way to rate dogs: every numerator is larger than every denominator. However, we still can kind of use ratings and other features to figure it out, even though it is very mean to rate dogs because they are all good dogs ;p"
   ]
  },
  {
   "cell_type": "markdown",
   "metadata": {},
   "source": [
    "![title](img/picture.png)"
   ]
  }
 ],
 "metadata": {
  "kernelspec": {
   "display_name": "Python 3",
   "language": "python",
   "name": "python3"
  },
  "language_info": {
   "codemirror_mode": {
    "name": "ipython",
    "version": 3
   },
   "file_extension": ".py",
   "mimetype": "text/x-python",
   "name": "python",
   "nbconvert_exporter": "python",
   "pygments_lexer": "ipython3",
   "version": "3.6.8"
  }
 },
 "nbformat": 4,
 "nbformat_minor": 2
}
