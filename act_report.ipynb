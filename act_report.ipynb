{
 "cells": [
  {
   "cell_type": "markdown",
   "metadata": {},
   "source": [
    "# Unlock tweet archive of Twitter user @dog_rates\n",
    "WeRateDogs (@dog_rates) is a very popular Twitter account. It has 7.84M followers. Each twitter has a image and its unique rating system. In this project, we have three kinds of datasets, Twitter archive data including the basic tweet information, image prediction that have done by a neural network and additional data from Twitter API.   \n",
    "\n",
    "After taking a look at the datasets, I've been interested in finding that which dog stage is the most popular and which dog breed is the most popular. Sorry, reality is cruel or I am a mean person loll. Even though all the dogs are good dogs, I am eager to know who is the most popular one ;p \n",
    "\n",
    "Besides rating system, which is weird because most of numerators are bigger than denomintors, I assume that favorite count and retweet count can be good metrics to measure the popularity among dogs (I want to re-emphasize again: I am a mean person and I want to compare dogs.). So, before doing anything mean, (oopss, dogs' owners! Don't hate me. I am only an analyst here.) I want to know favoriate count is correlated with retweet count?  \n",
    "\n",
    "### Is favorite count correlated to retweet count?\n",
    "In the figure, we can tell that favorite count is postive correlated with retweet count. Ok, good, let's move on. Let's find who is popular.\n",
    "![title](fav_retweet.png)"
   ]
  },
  {
   "cell_type": "markdown",
   "metadata": {},
   "source": [
    "### Which dog stage is the most popular?  \n",
    "The existing rating system is using a funny way to rate dogs: numerators are larger than denominators. And some of numerators and denominators are way bigger than others. So, instead of directly using numerators and denominators, I calculate the ratios. Also, doggo floofer and doggo puppo only have 1 record. The sample sizes of them are too small, so I exclude them from the analysis.\n",
    "\n",
    "In the following rating ratios table, the means of ratios among doggo, floofer, and puppo are tight. Let's see favorite count and retweet count.\n",
    "\t      \n",
    "|dog_stage\t   |count\t|mean\t  |std\t    |min   |25%\t   |50%\t   |75%\t |max  |\t\t\n",
    "|--------------|--------|---------|---------|------|-------|-------|-----|-----|\n",
    "|doggo\t       |67.0\t|1.197015 |0.147679\t|0.8   |1.10   |1.2\t   |1.3\t |1.4  |\n",
    "|floofer\t   |7.0\t    |1.200000 |0.115470\t|1.0   |1.15   |1.2\t   |1.3\t |1.3  |\n",
    "|pupper\t       |211.0\t|1.068374 |0.172926\t|0.3   |1.00   |1.1\t   |1.2\t |1.4  |\n",
    "|pupper doggo  |11.0    |1.118182 |0.218258\t|0.5   |1.15   |1.2\t   |1.2\t |1.3  |\n",
    "|puppo\t       |23.0\t|1.200000 |0.127920\t|0.9   |1.15   |1.2\t   |1.3\t |1.4  |"
   ]
  },
  {
   "cell_type": "markdown",
   "metadata": {},
   "source": [
    "Favorite count is supposed to be another good one to see which dog stage is the most popular. In the following favorite count table, the top 1 median is doggo and top 2 is puppo.\n",
    "\n",
    "\t\n",
    "|dog_stage\t  |count\t|mean\t       |std\t         | min\t   |25%\t   |50%\t       |75%\t      |max\t    |\t\n",
    "|-------------|---------|--------------|-------------|---------|-------|-----------|----------|---------|\n",
    "|doggo\t      |67.0\t    |18781.925373  |26543.326827 |0.0\t   |6630.5 |11514.0\t   |19023.5\t  |163421.0 |\n",
    "|floofer\t  |7.0\t    |12603.142857  |10774.668230 |2161.0   |4769.0 |10702.0\t   |17028.0\t  |31765.0  |\n",
    "|pupper\t      |211.0\t|6702.274882   |11044.624477 |0.0\t   |2119.5 |2989.0\t   |7037.5\t  |121348.0 |\n",
    "|pupper doggo |11.0\t    |10590.545455  |13969.015430 |0.0\t   |5442.5 |8309.0\t   |9572.0\t  |51187.0  |\n",
    "|puppo\t      |23.0\t    |20732.956522  |29275.582757 |0.0\t   |6160.5 |10887.0\t   |18815.0\t  |139629.0 |\n",
    "\n",
    "![title](stag_fav.png)"
   ]
  },
  {
   "cell_type": "markdown",
   "metadata": {},
   "source": [
    "Let's see retweet count that can show us a light. In the retweet count table, the top 1 median is doggo and the top 2 is floofer.\n",
    "\t\n",
    "|dog_stage\t  |count   |mean\t     |std\t      |min\t    |25%\t  |50%\t   |75%\t   |max\t\t   |\t\t\n",
    "|-------------|--------|-------------|------------|---------|---------|--------|-------|-----------|\n",
    "|doggo\t      |67.0\t   |7730.716418\t |13878.220726|675.0\t|1942.0\t  |3405.0  |5390.0 |83094.0    |\n",
    "|floofer\t  |7.0\t   |4652.285714\t |5754.108379 |467.0\t|1713.5\t  |3067.0  |4163.5 |17278.0    |\n",
    "|pupper\t      |211.0   |2320.042654\t |3641.039801 |78.0\t    |644.5\t  |1123.0  |2360.0 |35215.0    |\n",
    "|pupper doggo |11.0\t   |5165.454545\t |6271.362186 |1189.0\t|2158.5\t  |2417.0  |3272.0 |17782.0    |\n",
    "|puppo\t      |23.0\t   |6189.347826\t |9867.101862 |659.0\t|1611.5\t  |3019.0  |5631.0 |47374.0    |\n",
    "\n",
    "![title](stag_retw.png)"
   ]
  },
  {
   "cell_type": "markdown",
   "metadata": {},
   "source": [
    "We can briefly conlude that doggo is the most popular dog stage in this dataset. "
   ]
  },
  {
   "cell_type": "markdown",
   "metadata": {},
   "source": [
    "### Which breed is the most popular?\n",
    "There are 111 kinds of breed. I narrow down and only keep top 5 breeds that have the biggest sample size. Not surprised. That is, golden retriever, Labrador retriever, Pembroke, Chihuahua, and pug. (To be honost, who hats golden retriever? Come on!)\n",
    "\n",
    "Not surprised. The top one mean of rating is golden retriever. I also take a look at the dog stage. Majority of Golden retriever is in pupper!! No wonder.\n",
    "\n",
    "|prediction\t        |count\t  |mean\t     |std\t    |min\t|25%\t|50%\t|75%   |max\t      |\t\t\t\t\t\n",
    "|-------------------|---------|----------|----------|-------|-------|-------|------|----------|\n",
    "|Chihuahua\t        |82.0\t  |1.078049\t |0.197531\t|0.3\t|1.0\t|1.1\t|1.2   |1.400000  |\n",
    "|Labrador_retriever |100.0    |1.113000\t |0.131545\t|0.7\t|1.0\t|1.1\t|1.2   |1.300000  |\n",
    "|Pembroke\t        |89.0\t  |1.146067\t |0.171925\t|0.4\t|1.1\t|1.2\t|1.2   |1.400000  |\n",
    "|golden_retriever\t|150.0\t  |1.169645\t |0.226649\t|0.5\t|1.1\t|1.2\t|1.2   |3.428571  |\n",
    "|pug\t            |57.0\t  |1.031579\t |0.189131\t|0.3\t|1.0\t|1.0\t|1.1   |1.300000  |"
   ]
  },
  {
   "cell_type": "markdown",
   "metadata": {},
   "source": [
    "Let's see favorite count and retweet count that can confirm our theory. In the favorite count table, the top 1 median is golden retriever again.\n",
    "\n",
    "|prediction         |count\t|mean\t      |std\t        |min\t|25%\t  |50%\t   |75%\t     |max       |\n",
    "|-------------------|-------|-------------|-------------|-------|---------|--------|---------|----------|\n",
    "|Chihuahua\t        |80.0\t|8000.675000  |16125.628923\t|0.0\t|1151.00  |2723.0  |9206.25\t |126342.0  |\n",
    "|Labrador_retriever\t|100.0\t|11097.370000 |19135.169194\t|0.0\t|1961.75  |5141.5  |15435.00 |163421.0  |\n",
    "|Pembroke\t        |88.0\t|11010.306818 |11965.604437\t|163.0\t|3066.00  |6230.5  |14721.00 |67419.0   |\n",
    "|golden_retriever\t|150.0\t|10982.886667 |12652.450403\t|0.0\t|2978.25  |6968.0  |15105.25 |81576.0   |\n",
    "|pug\t            |57.0\t|5353.473684  |7836.257104\t|0.0\t|1432.00  |2464.0  |5009.00\t |35151.0   |\n",
    "\n",
    "![title](breed_fav.png)"
   ]
  },
  {
   "cell_type": "markdown",
   "metadata": {},
   "source": [
    "How about retweet count? Again, golden retriever has the highest median!!!!\n",
    "\n",
    "\t\n",
    "|prediction\t        |count\t  |mean\t         |std\t        |min\t|25%\t |50%\t  |75%\t   |max     |\t\t\t\n",
    "|-------------------|---------|--------------|--------------|-------|--------|--------|--------|--------|\n",
    "|Chihuahua\t        |80.0\t  |2857.762500\t |7148.689681\t|47.0\t|490.25\t |944.0\t  |2861.75 |60579.0 |\n",
    "|Labrador_retriever |100.0    |4078.580000\t |9069.435992\t|91.0\t|596.00\t |1919.0  |4249.00 |83094.0 |\n",
    "|Pembroke\t        |88.0\t  |3012.295455\t |3012.903751\t|82.0\t|999.25\t |1859.0  |3946.00 |17659.0 |\n",
    "|golden_retriever\t|150.0\t  |3680.666667\t |4341.710327\t|51.0\t|1146.50 |2274.5  |4230.00 |25993.0 |\n",
    "|pug\t            |57.0\t  |1847.578947\t |2231.989159\t|44.0\t|539.00\t |923.0\t  |2428.00 |9659.0  |\n",
    "\n",
    "![title](breed_retw.png)"
   ]
  },
  {
   "cell_type": "markdown",
   "metadata": {},
   "source": [
    "### Summary\n",
    "From the datasets, I preliminary conclude:  \n",
    "1. favorite count is positively correlated with retweet count.\n",
    "2. Doggo is the most popular dog stage.\n",
    "3. Golden retriever is the most popular breed.\n",
    "\n",
    "However, before we jump into the final conclusion, I would like to point out: in this analysis, the sample size is different in each group, so I will include unequal sample size into my future analysis. Also, besides exploratory analysis, next step, I will work on statistical model and see if there is any significant. Overall, finding popular dog on Twitter is fun. :stuck_out_tongue_closed_eyes: "
   ]
  }
 ],
 "metadata": {
  "kernelspec": {
   "display_name": "Python 3",
   "language": "python",
   "name": "python3"
  },
  "language_info": {
   "codemirror_mode": {
    "name": "ipython",
    "version": 3
   },
   "file_extension": ".py",
   "mimetype": "text/x-python",
   "name": "python",
   "nbconvert_exporter": "python",
   "pygments_lexer": "ipython3",
   "version": "3.6.8"
  }
 },
 "nbformat": 4,
 "nbformat_minor": 2
}
